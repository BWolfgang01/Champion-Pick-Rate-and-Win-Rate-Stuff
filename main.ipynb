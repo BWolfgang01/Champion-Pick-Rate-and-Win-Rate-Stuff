{
 "cells": [
  {
   "metadata": {},
   "cell_type": "markdown",
   "source": [
    "# This is a sample Jupyter Notebook\n",
    "\n",
    "Below is an example of a code cell.\n",
    "Put your cursor into the cell and press Shift+Enter to execute it and select the next one, or click 'Run Cell' button.\n",
    "\n",
    "Press Double Shift to search everywhere for classes, files, tool windows, actions, and settings.\n",
    "\n",
    "To learn more about Jupyter Notebooks in PyCharm, see [help](https://www.jetbrains.com/help/pycharm/ipython-notebook-support.html).\n",
    "For an overview of PyCharm, go to Help -> Learn IDE features or refer to [our documentation](https://www.jetbrains.com/help/pycharm/getting-started.html)."
   ],
   "id": "8a77807f92f26ee"
  },
  {
   "metadata": {
    "ExecuteTime": {
     "end_time": "2025-03-29T23:25:07.559983Z",
     "start_time": "2025-03-29T23:25:06.523137Z"
    }
   },
   "cell_type": "code",
   "source": [
    "import os, requests\n",
    "import random\n",
    "from dotenv import load_dotenv\n",
    "from bs4 import BeautifulSoup\n",
    "import numpy as np\n",
    "import math\n",
    "\n",
    "from google.auth import api_key"
   ],
   "id": "ea769e7b9d4576b7",
   "outputs": [],
   "execution_count": 1
  },
  {
   "metadata": {
    "ExecuteTime": {
     "end_time": "2025-03-29T23:45:46.223304Z",
     "start_time": "2025-03-29T23:45:46.215024Z"
    }
   },
   "cell_type": "code",
   "source": [
    "load_dotenv()\n",
    "API_KEY = os.environ.get('key')\n",
    "REGION = 'na1'\n",
    "root = 'https://americas.api.riotgames.com'\n",
    "winRateDict = {}\n",
    "pickRateDict = {}\n",
    "top5WR = {}\n",
    "\n",
    "champList = ['aphelios', 'ashe', 'caitlyn', 'corki', 'draven', 'ezreal', 'jhin', 'jinx', 'kaisa', 'kalista', 'kogmaw', 'lucian', 'missfortune', 'nilah', 'samira', 'sivir', 'smolder', 'tristana', 'twitch', 'varus', 'vayne', 'xayah', 'zeri']\n",
    "champListLength = len(champList)\n",
    "headers = {\n",
    "    'User-Agent': 'Mozilla/5.0 (compatible; YourAppName/1.0)'\n",
    "}"
   ],
   "id": "fbc121e30a2defb3",
   "outputs": [],
   "execution_count": 14
  },
  {
   "metadata": {
    "ExecuteTime": {
     "end_time": "2025-03-30T00:20:23.814192Z",
     "start_time": "2025-03-30T00:20:23.788423Z"
    }
   },
   "cell_type": "code",
   "source": [
    "def updateWinRates(winRateDict, headers):\n",
    "    for champ in champList:\n",
    "        opggURL = f'https://www.op.gg/champions/{champ}/build'\n",
    "        response = requests.get(opggURL, headers=headers)\n",
    "        if response.status_code == 200:\n",
    "            soup = BeautifulSoup(response.text, 'html.parser')\n",
    "            winRateEm = soup.find('em', string='Win rate')\n",
    "            winRateB = winRateEm.find_next('b', class_='text-[12px]')\n",
    "            if winRateB:\n",
    "                raw_text = winRateB.get_text(separator=\" \", strip=True)\n",
    "                winRate = raw_text.replace('\"', '').strip()\n",
    "                winRateDict.update({champ: float(winRate.strip(\" %\"))})\n",
    "        else:\n",
    "            print(f\"Failed to retrieve data: {response.status_code}\")\n",
    "\n",
    "def updatePickRates(pickRateDict, headers):\n",
    "    for champ in champList:\n",
    "        opggURL = f'https://www.op.gg/champions/{champ}/build'\n",
    "        response = requests.get(opggURL, headers=headers)\n",
    "        if response.status_code == 200:\n",
    "            soup = BeautifulSoup(response.text, 'html.parser')\n",
    "            pickRateEm = soup.find('em', string='Pick rate')\n",
    "            pickRateB = pickRateEm.find_next('b', class_='text-[12px]')\n",
    "            if pickRateB:\n",
    "                raw_text = pickRateB.get_text(separator=\" \", strip=True)\n",
    "                pickRate = raw_text.replace('\"', '').strip()\n",
    "                pickRateDict.update({champ: float(pickRate.strip(\" %\"))})\n",
    "        else:\n",
    "            print(f\"Failed to retrieve data: {response.status_code}\")\n",
    "\n",
    "def getTop5(top5, winRateDict):\n",
    "    for key, value in winRateDict.items():\n",
    "        currWR = float(winRateDict.get(key))\n",
    "        if len(top5) < 5:\n",
    "            top5[key] = currWR\n",
    "        else:\n",
    "            smallest_key = min(top5, key=top5.get)\n",
    "            if currWR > top5[smallest_key]:\n",
    "                top5.pop(smallest_key)\n",
    "                top5[key] = currWR\n",
    "\n",
    "def addZScores(dictionary):\n",
    "    zScoreDict = {}\n",
    "    std = np.std(list(dictionary.values()))\n",
    "    mean = np.mean(list(dictionary.values()))\n",
    "    for key, value in dictionary.items():\n",
    "        floatVal = float(value)\n",
    "        currentKey = key\n",
    "        zScore = float((floatVal - mean) / std)\n",
    "        zScoreDict[key] = zScore\n",
    "    return zScoreDict\n",
    "\n",
    "def joinZPicKRate(winRateDict, zscoreDict):\n",
    "    result = {}\n",
    "    for key, value in winRateDict.items():\n",
    "        result.update({key: 1.5 * value + 2 * zscoreDict[key]})\n",
    "    return result\n",
    "\n",
    "def getPUUID(username, tagline):\n",
    "    response = requests.get(f'{root}//riot/account/v1/accounts/by-riot-id/{username}/{tagline}?api_key={API_KEY}')\n",
    "    return response.json()['puuid']\n",
    "\n",
    "def getMatchHistory(count, username, tagline):\n",
    "    matches = requests.get(f'{root}/lol/match/v5/matches/by-puuid/{playerPUUID}/ids?start=0&count={count}&api_key={API_KEY}').json()\n",
    "    return matches\n",
    "\n",
    "def getMatchInformation(matchID):\n",
    "    return requests.get(f'{root}/lol/match/v5/matches/{matchID}?api_key={API_KEY}').json()"
   ],
   "id": "9482e98921397ae2",
   "outputs": [],
   "execution_count": 31
  },
  {
   "metadata": {
    "ExecuteTime": {
     "end_time": "2025-03-29T23:27:51.610035Z",
     "start_time": "2025-03-29T23:27:28.219897Z"
    }
   },
   "cell_type": "code",
   "source": [
    "updateWinRates(winRateDict, headers)\n",
    "updatePickRates(pickRateDict, headers)"
   ],
   "id": "2ea426bd77dd0dc4",
   "outputs": [],
   "execution_count": 6
  },
  {
   "metadata": {
    "ExecuteTime": {
     "end_time": "2025-03-29T02:07:40.934357Z",
     "start_time": "2025-03-29T02:07:40.931563Z"
    }
   },
   "cell_type": "code",
   "outputs": [],
   "execution_count": 191,
   "source": "getTop5(top5WR, winRateDict)",
   "id": "46306b813c7a602d"
  },
  {
   "metadata": {
    "ExecuteTime": {
     "end_time": "2025-03-29T23:27:51.622349Z",
     "start_time": "2025-03-29T23:27:51.616047Z"
    }
   },
   "cell_type": "code",
   "source": [
    "zScorePRDict = addZScores(pickRateDict)\n",
    "zScoreWRDict = addZScores(winRateDict)"
   ],
   "id": "4a77c9c8f5ea6ece",
   "outputs": [],
   "execution_count": 7
  },
  {
   "metadata": {
    "ExecuteTime": {
     "end_time": "2025-03-29T23:29:25.686097Z",
     "start_time": "2025-03-29T23:29:25.675461Z"
    }
   },
   "cell_type": "code",
   "source": [
    "truePowerLevelDict = joinZPicKRate(zScoreWRDict, zScorePRDict)\n",
    "\n",
    "top5PL = dict(sorted(truePowerLevelDict.items(), key=lambda item: item[1], reverse=True)[:5])\n",
    "truePowerLevelDict = dict(sorted(truePowerLevelDict.items(), key=lambda item: item[1], reverse=True))\n",
    "sortedWR = dict(sorted(winRateDict.items(), key=lambda item: item[1], reverse=True))\n",
    "sortedPR = dict(sorted(pickRateDict.items(), key=lambda item: item[1], reverse=True))\n",
    "\n",
    "print(f'Win Rates: {sortedWR}\\n')\n",
    "print(f'Pick Rates: {sortedPR}\\n')\n",
    "print(f'Power Level: {truePowerLevelDict}\\n')\n",
    "print(f'Top 5: {top5PL}\\n')"
   ],
   "id": "2aa27a64efb943dc",
   "outputs": [
    {
     "name": "stdout",
     "output_type": "stream",
     "text": [
      "Win Rates: {'nilah': 53.65, 'kogmaw': 53.38, 'vayne': 52.3, 'jinx': 52.02, 'tristana': 51.85, 'missfortune': 51.39, 'twitch': 51.34, 'lucian': 51.25, 'sivir': 51.1, 'samira': 50.75, 'xayah': 50.69, 'jhin': 50.64, 'zeri': 50.57, 'draven': 50.51, 'corki': 50.48, 'ashe': 50.37, 'smolder': 50.24, 'aphelios': 50.14, 'kaisa': 49.75, 'caitlyn': 49.74, 'varus': 49.64, 'kalista': 48.61, 'ezreal': 47.86}\n",
      "\n",
      "Pick Rates: {'kaisa': 21.37, 'ezreal': 19.04, 'jhin': 19.04, 'jinx': 17.14, 'caitlyn': 12.5, 'lucian': 11.33, 'tristana': 10.96, 'ashe': 9.07, 'varus': 7.41, 'missfortune': 6.95, 'vayne': 6.11, 'aphelios': 5.6, 'smolder': 5.43, 'xayah': 5.08, 'draven': 4.77, 'twitch': 4.26, 'sivir': 4.23, 'corki': 3.51, 'zeri': 3.5, 'samira': 3.47, 'kogmaw': 2.0, 'nilah': 2.0, 'kalista': 1.86}\n",
      "\n",
      "Power Level: {'jinx': 4.511332741876502, 'jhin': 3.568722353460782, 'kaisa': 3.339650385610109, 'tristana': 2.19546681627814, 'lucian': 1.6292179147203698, 'nilah': 1.2019996329036462, 'vayne': 1.0519817723065195, 'kogmaw': 0.8900852562013868, 'ezreal': 0.3571595118596895, 'missfortune': 0.2887988328569433, 'caitlyn': 0.286067786385392, 'ashe': -0.16247513965378063, 'twitch': -0.6915179115378411, 'sivir': -0.9790638507689132, 'xayah': -1.1611980022712856, 'draven': -1.4754576468619434, 'smolder': -1.5610202826582738, 'varus': -1.5751081192788523, 'aphelios': -1.6182414047389, 'samira': -1.6440447612746372, 'zeri': -1.8416989635804226, 'corki': -1.9422408506492732, 'kalista': -4.668416071185331}\n",
      "\n",
      "Top 5: {'jinx': 4.511332741876502, 'jhin': 3.568722353460782, 'kaisa': 3.339650385610109, 'tristana': 2.19546681627814, 'lucian': 1.6292179147203698}\n",
      "\n"
     ]
    }
   ],
   "execution_count": 8
  },
  {
   "metadata": {
    "ExecuteTime": {
     "end_time": "2025-03-30T00:47:40.042106Z",
     "start_time": "2025-03-30T00:47:36.768102Z"
    }
   },
   "cell_type": "code",
   "source": [
    "try:\n",
    "    username, tagline = input(\"Enter username and tagline (e.g. Saico#Slide): \").split(\"#\")\n",
    "    print(f\"Username: {username}, Tagline: {tagline}\")\n",
    "except ValueError:\n",
    "    print(\"Invalid entry method, try again.\\n\")"
   ],
   "id": "a83983dd93c17be0",
   "outputs": [
    {
     "name": "stdout",
     "output_type": "stream",
     "text": [
      "Username: Saico, Tagline: Slide\n"
     ]
    }
   ],
   "execution_count": 45
  },
  {
   "metadata": {
    "ExecuteTime": {
     "end_time": "2025-03-30T01:02:27.951594Z",
     "start_time": "2025-03-30T01:02:27.107675Z"
    }
   },
   "cell_type": "code",
   "source": [
    "playerPUUID = getPUUID(username, tagline)\n",
    "count = 3\n",
    "\n",
    "matchList = getMatchHistory(count, username, tagline)"
   ],
   "id": "c7f8428855607ea8",
   "outputs": [
    {
     "name": "stdout",
     "output_type": "stream",
     "text": [
      "['NA1_5255639416', 'NA1_5255620896', 'NA1_5255598057']\n"
     ]
    }
   ],
   "execution_count": 68
  },
  {
   "metadata": {
    "ExecuteTime": {
     "end_time": "2025-03-30T01:04:03.770375Z",
     "start_time": "2025-03-30T01:04:03.764155Z"
    }
   },
   "cell_type": "code",
   "source": [
    "for game in matchList:\n",
    "    info = game['info']\n",
    "    queueID = info['queueId'] #Ranked is 420\n",
    "    if int(queueID) != 420:\n",
    "        break\n",
    "    metadata = game['metadata']\n",
    "    players = info['participants']\n",
    "    participants = metadata['participants']\n",
    "    teams = info['teams']\n",
    "    player = players[participants.index(playerPUUID)]\n",
    "    playerTeam = player['teamId']\n",
    "    matchID = metadata['matchId']\n",
    "\n"
   ],
   "id": "4b48580c987f4802",
   "outputs": [
    {
     "name": "stdout",
     "output_type": "stream",
     "text": [
      "16\n",
      "1700\n",
      "420\n",
      "10\n"
     ]
    }
   ],
   "execution_count": 73
  }
 ],
 "metadata": {
  "kernelspec": {
   "display_name": "Python 3",
   "language": "python",
   "name": "python3"
  },
  "language_info": {
   "codemirror_mode": {
    "name": "ipython",
    "version": 2
   },
   "file_extension": ".py",
   "mimetype": "text/x-python",
   "name": "python",
   "nbconvert_exporter": "python",
   "pygments_lexer": "ipython2",
   "version": "2.7.6"
  }
 },
 "nbformat": 4,
 "nbformat_minor": 5
}
