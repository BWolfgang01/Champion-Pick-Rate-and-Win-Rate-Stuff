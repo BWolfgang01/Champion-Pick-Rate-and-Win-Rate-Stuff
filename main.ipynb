{
 "cells": [
  {
   "metadata": {},
   "cell_type": "markdown",
   "source": [
    "# This is a sample Jupyter Notebook\n",
    "\n",
    "Below is an example of a code cell. \n",
    "Put your cursor into the cell and press Shift+Enter to execute it and select the next one, or click 'Run Cell' button.\n",
    "\n",
    "Press Double Shift to search everywhere for classes, files, tool windows, actions, and settings.\n",
    "\n",
    "To learn more about Jupyter Notebooks in PyCharm, see [help](https://www.jetbrains.com/help/pycharm/ipython-notebook-support.html).\n",
    "For an overview of PyCharm, go to Help -> Learn IDE features or refer to [our documentation](https://www.jetbrains.com/help/pycharm/getting-started.html)."
   ],
   "id": "8a77807f92f26ee"
  },
  {
   "metadata": {
    "ExecuteTime": {
     "end_time": "2025-04-02T02:48:31.925339Z",
     "start_time": "2025-04-02T02:48:31.921517Z"
    }
   },
   "cell_type": "code",
   "source": [
    "import os, requests\n",
    "import random\n",
    "from dotenv import load_dotenv\n",
    "from bs4 import BeautifulSoup\n",
    "import numpy as np\n",
    "import math"
   ],
   "id": "fbc121e30a2defb3",
   "outputs": [],
   "execution_count": 31
  },
  {
   "metadata": {
    "ExecuteTime": {
     "end_time": "2025-04-02T02:48:30.130621Z",
     "start_time": "2025-04-02T02:48:30.126768Z"
    }
   },
   "cell_type": "code",
   "source": "API_KEY = os.environ.get('key')",
   "id": "b89783a24986a90a",
   "outputs": [],
   "execution_count": 30
  },
  {
   "metadata": {
    "ExecuteTime": {
     "end_time": "2025-04-02T03:03:50.054044Z",
     "start_time": "2025-04-02T03:03:50.048888Z"
    }
   },
   "cell_type": "code",
   "source": [
    "load_dotenv()\n",
    "REGION = 'na1'\n",
    "root = 'https://americas.api.riotgames.com'\n",
    "winRateDict = {}\n",
    "pickRateDict = {}\n",
    "top5WR = {}\n",
    "\n",
    "champList = ['aphelios', 'ashe', 'caitlyn', 'corki', 'draven', 'ezreal', 'jhin', 'jinx', 'kaisa', 'kalista', 'kogmaw', 'lucian', 'missfortune', 'nilah', 'samira', 'sivir', 'smolder', 'tristana', 'twitch', 'varus', 'vayne', 'xayah', 'zeri']\n",
    "champListLength = len(champList)\n",
    "headersOPGG = {\n",
    "    \"User-Agent\": \"Mozilla/5.0 (Windows NT 10.0; Win64; x64) AppleWebKit/537.36 (KHTML, like Gecko) Chrome/134.0.0.0 Safari/537.36\",\n",
    "}\n",
    "headers = {\n",
    "    \"User-Agent\": \"Mozilla/5.0 (Windows NT 10.0; Win64; x64) AppleWebKit/537.36 (KHTML, like Gecko) Chrome/134.0.0.0 Safari/537.36\",\n",
    "    \"Accept-Language\": \"en-US,en;q=0.9\",\n",
    "    \"Accept-Charset\": \"application/x-www-form-urlencoded; charset=UTF-8\",\n",
    "    \"Origin\": \"https://developer.riotgames.com\",\n",
    "    \"X-Riot-Token\": API_KEY\n",
    "}"
   ],
   "id": "677a30a4cde02e9d",
   "outputs": [],
   "execution_count": 40
  },
  {
   "metadata": {
    "ExecuteTime": {
     "end_time": "2025-04-02T02:57:50.961074Z",
     "start_time": "2025-04-02T02:57:50.957333Z"
    }
   },
   "cell_type": "code",
   "source": "tierSort = '?tier=master_plus' #NOTE: Edit as needed",
   "id": "9ff6417230efd468",
   "outputs": [],
   "execution_count": 38
  },
  {
   "metadata": {
    "ExecuteTime": {
     "end_time": "2025-04-02T03:20:40.437438Z",
     "start_time": "2025-04-02T03:20:40.428407Z"
    }
   },
   "cell_type": "code",
   "source": [
    "def updateWinRates(winRateDict, headers):\n",
    "    for champ in champList:\n",
    "        opggURL = f'https://www.op.gg/champions/{champ}/build/{tierSort}'\n",
    "        response = requests.get(opggURL, headers=headers)\n",
    "        if response.status_code == 200:\n",
    "            soup = BeautifulSoup(response.text, 'html.parser')\n",
    "            winRateEm = soup.find('em', string='Win rate')\n",
    "            winRateB = winRateEm.find_next('b', class_='text-[12px]')\n",
    "            if winRateB:\n",
    "                raw_text = winRateB.get_text(separator=\" \", strip=True)\n",
    "                winRate = raw_text.replace('\"', '').strip()\n",
    "                winRateDict.update({champ: float(winRate.strip(\" %\"))})\n",
    "        else:\n",
    "            print(f\"Failed to retrieve data: {response.status_code}\")\n",
    "\n",
    "def updatePickRates(pickRateDict, headers):\n",
    "    for champ in champList:\n",
    "        opggURL = f'https://www.op.gg/champions/{champ}/build/{tierSort}'\n",
    "        response = requests.get(opggURL, headers=headers)\n",
    "        if response.status_code == 200:\n",
    "            soup = BeautifulSoup(response.text, 'html.parser')\n",
    "            pickRateEm = soup.find('em', string='Pick rate')\n",
    "            pickRateB = pickRateEm.find_next('b', class_='text-[12px]')\n",
    "            if pickRateB:\n",
    "                raw_text = pickRateB.get_text(separator=\" \", strip=True)\n",
    "                pickRate = raw_text.replace('\"', '').strip()\n",
    "                pickRateDict.update({champ: float(pickRate.strip(\" %\"))})\n",
    "        else:\n",
    "            print(f\"Failed to retrieve data: {response.status_code}\")\n",
    "\n",
    "def getTop5(top5, winRateDict):\n",
    "    for key, value in winRateDict.items():\n",
    "        currWR = float(winRateDict.get(key))\n",
    "        if len(top5) < 5:\n",
    "            top5[key] = currWR\n",
    "        else:\n",
    "            smallest_key = min(top5, key=top5.get)\n",
    "            if currWR > top5[smallest_key]:\n",
    "                top5.pop(smallest_key)\n",
    "                top5[key] = currWR\n",
    "\n",
    "def addZScores(dictionary):\n",
    "    zScoreDict = {}\n",
    "    std = np.std(list(dictionary.values()))\n",
    "    mean = np.mean(list(dictionary.values()))\n",
    "    for key, value in dictionary.items():\n",
    "        floatVal = float(value)\n",
    "        currentKey = key\n",
    "        zScore = float((floatVal - mean) / std)\n",
    "        zScoreDict[key] = zScore\n",
    "    return zScoreDict\n",
    "\n",
    "def joinZPicKRate(winRateDict, zscoreDict):\n",
    "    result = {}\n",
    "    for key, value in winRateDict.items():\n",
    "        result.update({key: 1.5 * value + 2 * zscoreDict[key]})\n",
    "    return result\n",
    "\n",
    "\n",
    "def getMatchHistory(count, username, tagline, headers):\n",
    "    matches = requests.get(f'{root}/lol/match/v5/matches/by-puuid/{playerPUUID}/ids?start=0&count={count}&api_key={API_KEY}', headers=headers).json()\n",
    "    return matches\n",
    "\n",
    "def getMatchInformation(matchID, headers):\n",
    "    return requests.get(f'{root}/lol/match/v5/matches/{matchID}?api_key={API_KEY}', headers=headers).json()"
   ],
   "id": "9482e98921397ae2",
   "outputs": [],
   "execution_count": 58
  },
  {
   "metadata": {
    "ExecuteTime": {
     "end_time": "2025-04-02T03:13:06.284323Z",
     "start_time": "2025-04-02T03:12:15.844954Z"
    }
   },
   "cell_type": "code",
   "source": [
    "updateWinRates(winRateDict, headersOPGG)\n",
    "updatePickRates(pickRateDict, headersOPGG)"
   ],
   "id": "2ea426bd77dd0dc4",
   "outputs": [],
   "execution_count": 45
  },
  {
   "metadata": {
    "ExecuteTime": {
     "end_time": "2025-04-02T03:13:06.291253Z",
     "start_time": "2025-04-02T03:13:06.288321Z"
    }
   },
   "cell_type": "code",
   "source": "getTop5(top5WR, winRateDict)",
   "id": "1f76b299f46ff3cd",
   "outputs": [],
   "execution_count": 46
  },
  {
   "metadata": {
    "ExecuteTime": {
     "end_time": "2025-04-02T03:13:06.303394Z",
     "start_time": "2025-04-02T03:13:06.300395Z"
    }
   },
   "cell_type": "code",
   "source": "getTop5(top5WR, winRateDict)",
   "id": "46306b813c7a602d",
   "outputs": [],
   "execution_count": 47
  },
  {
   "metadata": {
    "ExecuteTime": {
     "end_time": "2025-04-02T03:13:06.313931Z",
     "start_time": "2025-04-02T03:13:06.310381Z"
    }
   },
   "cell_type": "code",
   "source": [
    "zScorePRDict = addZScores(pickRateDict)\n",
    "zScoreWRDict = addZScores(winRateDict)"
   ],
   "id": "4a77c9c8f5ea6ece",
   "outputs": [],
   "execution_count": 48
  },
  {
   "metadata": {
    "ExecuteTime": {
     "end_time": "2025-04-02T03:13:58.758727Z",
     "start_time": "2025-04-02T03:13:58.753224Z"
    }
   },
   "cell_type": "code",
   "source": [
    "truePowerLevelDict = joinZPicKRate(zScoreWRDict, zScorePRDict)\n",
    "\n",
    "top5PL = dict(sorted(truePowerLevelDict.items(), key=lambda item: item[1], reverse=True)[:5])\n",
    "truePowerLevelDict = dict(sorted(truePowerLevelDict.items(), key=lambda item: item[1], reverse=True))\n",
    "sortedWR = dict(sorted(winRateDict.items(), key=lambda item: item[1], reverse=True))\n",
    "sortedPR = dict(sorted(pickRateDict.items(), key=lambda item: item[1], reverse=True))\n",
    "\n",
    "print(f'Win Rates: {sortedWR}\\n')\n",
    "print(f'Pick Rates: {sortedPR}\\n')\n",
    "print(f'Power Level: {truePowerLevelDict}\\n')\n",
    "print(f'Top 5: {top5PL}\\n')"
   ],
   "id": "2aa27a64efb943dc",
   "outputs": [
    {
     "name": "stdout",
     "output_type": "stream",
     "text": [
      "Win Rates: {'nilah': 53.31, 'kogmaw': 53.27, 'tristana': 52.15, 'jinx': 51.91, 'draven': 51.73, 'vayne': 51.53, 'missfortune': 51.47, 'corki': 51.37, 'lucian': 51.06, 'ashe': 50.95, 'twitch': 50.63, 'varus': 50.56, 'xayah': 50.51, 'zeri': 50.44, 'aphelios': 50.27, 'kaisa': 50.23, 'samira': 50.02, 'jhin': 49.85, 'smolder': 49.74, 'sivir': 49.7, 'caitlyn': 49.22, 'kalista': 49.03, 'ezreal': 48.47}\n",
      "\n",
      "Pick Rates: {'kaisa': 24.43, 'ezreal': 20.5, 'jhin': 16.79, 'tristana': 13.74, 'jinx': 13.41, 'varus': 10.59, 'lucian': 10.04, 'ashe': 7.9, 'caitlyn': 7.41, 'corki': 6.54, 'aphelios': 6.09, 'missfortune': 5.75, 'draven': 5.54, 'xayah': 5.05, 'smolder': 4.33, 'zeri': 4.18, 'twitch': 3.82, 'sivir': 3.63, 'vayne': 3.57, 'kalista': 2.63, 'samira': 2.6, 'kogmaw': 2.03, 'nilah': 1.93}\n",
      "\n",
      "Power Level: {'kaisa': 4.879181901587604, 'tristana': 3.679156743102831, 'jinx': 3.270064305873314, 'jhin': 1.8432374725210499, 'ezreal': 1.3725034310934525, 'nilah': 1.1585066074679782, 'kogmaw': 1.1423334259489621, 'lucian': 1.0825851148370154, 'varus': 0.6455414816764096, 'draven': 0.40558191772567065, 'corki': 0.29357740750778577, 'ashe': 0.22777678426324813, 'missfortune': 0.15281809465767282, 'vayne': -0.5040708391651801, 'aphelios': -1.2249170347698235, 'xayah': -1.275516088850114, 'twitch': -1.539049892408468, 'zeri': -1.6544597465950663, 'caitlyn': -2.087344360709206, 'smolder': -2.4743563984301837, 'samira': -2.7067515993657425, 'sivir': -2.7589625675753604, 'kalista': -3.927436160393875}\n",
      "\n",
      "Top 5: {'kaisa': 4.879181901587604, 'tristana': 3.679156743102831, 'jinx': 3.270064305873314, 'jhin': 1.8432374725210499, 'ezreal': 1.3725034310934525}\n",
      "\n"
     ]
    }
   ],
   "execution_count": 49
  },
  {
   "metadata": {
    "ExecuteTime": {
     "end_time": "2025-04-02T03:14:06.585690Z",
     "start_time": "2025-04-02T03:14:00.711616Z"
    }
   },
   "cell_type": "code",
   "source": [
    "try:\n",
    "    username, tagline = input(\"Enter username and tagline (e.g. Saico#Slide): \").split(\"#\")\n",
    "    print(f\"Username: {username}, Tagline: {tagline}\")\n",
    "except ValueError:\n",
    "    print(\"Invalid entry method, try again.\\n\")"
   ],
   "id": "26491ef35afc2151",
   "outputs": [
    {
     "name": "stdout",
     "output_type": "stream",
     "text": [
      "Username: Saico, Tagline: Slide\n"
     ]
    }
   ],
   "execution_count": 50
  },
  {
   "metadata": {
    "ExecuteTime": {
     "end_time": "2025-04-02T03:15:18.430329Z",
     "start_time": "2025-04-02T03:15:18.426326Z"
    }
   },
   "cell_type": "code",
   "source": [
    "def getPUUID(username, tagline, headers):\n",
    "    return requests.get(f'{root}/riot/account/v1/accounts/by-riot-id/{username}/{tagline}?api_key={API_KEY}', headers=headers).json()['puuid']"
   ],
   "id": "be1400bb9bfce721",
   "outputs": [],
   "execution_count": 56
  },
  {
   "metadata": {
    "ExecuteTime": {
     "end_time": "2025-04-02T03:15:20.464799Z",
     "start_time": "2025-04-02T03:15:19.221913Z"
    }
   },
   "cell_type": "code",
   "source": [
    "playerPUUID = getPUUID(username, tagline, headers)\n",
    "count = 20\n",
    "\n",
    "matchList = getMatchHistory(count, username, tagline)\n",
    "print(matchList)"
   ],
   "id": "8aed014ed157ba6f",
   "outputs": [
    {
     "name": "stdout",
     "output_type": "stream",
     "text": [
      "['NA1_5257793042', 'NA1_5257769139', 'NA1_5257751614', 'NA1_5257733241', 'NA1_5257661308', 'NA1_5257625478', 'NA1_5257614615', 'NA1_5257304145', 'NA1_5257282077', 'NA1_5257187868', 'NA1_5257170379', 'NA1_5257158710', 'NA1_5257147580', 'NA1_5256858062', 'NA1_5256837726', 'NA1_5256830246', 'NA1_5256819084', 'NA1_5255639416', 'NA1_5255620896', 'NA1_5255598057']\n"
     ]
    }
   ],
   "execution_count": 57
  },
  {
   "metadata": {},
   "cell_type": "code",
   "outputs": [],
   "execution_count": null,
   "source": [
    "for game in matchList:\n",
    "    matchInfo = getMatchInformation(game)\n",
    "    info = matchInfo['info']\n",
    "    queueID = info['queueId'] #Ranked is 420\n",
    "    if queueID != 420:\n",
    "        continue\n",
    "    metadata = matchInfo['metadata']\n",
    "    players = info['participants']\n",
    "    participants = metadata['participants']\n",
    "    teams = info['teams']\n",
    "    player = players[participants.index(playerPUUID)]\n",
    "    playerTeam = player['teamId']\n",
    "    matchID = metadata['matchId']\n",
    "    gameStartTime = info['gameStartTimestamp']\n",
    "    gameEndTime = info['gameEndTimestamp']\n",
    "    for team in teams:\n",
    "        if team['teamId'] == playerTeam:\n",
    "            objs = team['objectives']\n",
    "            baron = objs['baron']\n",
    "            dragon = objs['dragon']\n",
    "            # grubs = objs['grubs'] Not available :(\n",
    "            herald = objs['riftHerald']\n",
    "            tower = objs['tower']\n",
    "            inhibitor = objs['inhibitor']\n",
    "            champion = objs['champion']\n",
    "    for obj in [baron, dragon, herald, tower, inhibitor]:\n",
    "        first = obj['first']\n",
    "        objKills = obj['kills']\n",
    "    assists = player['assists']\n",
    "    champLevel = player['champLevel']\n",
    "    champName = player['championName']\n",
    "    damageToBuildings = player['damageDealtToBuildings']\n",
    "    deaths = player['deaths']\n",
    "    doublekills = player['doubleKills']\n",
    "    firstBloodAssist = player['firstBloodAssist']\n",
    "    firstBloodKill = player['firstBloodKill']\n",
    "    firstTowerAssist = player['firstTowerAssist']\n",
    "    firstTowerKill = player['firstTowerKill']\n",
    "    gold = player['goldEarned']\n",
    "    kills = player['kills']\n",
    "    longestTimeLiving = player['longestTimeSpentLiving']\n",
    "    neutralMinionsKilled = player['neutralMinionsKilled']\n",
    "    minionsKilled = player['totalMinionsKilled']\n",
    "    turretTakedowns = player['turretTakedowns']\n",
    "    visionScore = player['visionScore']\n",
    "    win = player['win']\n",
    "    wardsPlaced = player['wardsPlaced']\n",
    "    wardsKilled = player['wardsKilled']\n",
    "    ctrlWardsBought = player['visionWardsBoughtInGame']"
   ],
   "id": "90d0e21ddd08e28e"
  }
 ],
 "metadata": {
  "kernelspec": {
   "display_name": "Python 3",
   "language": "python",
   "name": "python3"
  },
  "language_info": {
   "codemirror_mode": {
    "name": "ipython",
    "version": 2
   },
   "file_extension": ".py",
   "mimetype": "text/x-python",
   "name": "python",
   "nbconvert_exporter": "python",
   "pygments_lexer": "ipython2",
   "version": "2.7.6"
  }
 },
 "nbformat": 4,
 "nbformat_minor": 5
}
