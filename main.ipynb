{
 "cells": [
  {
   "metadata": {},
   "cell_type": "markdown",
   "source": [
    "# This is a sample Jupyter Notebook\n",
    "\n",
    "Below is an example of a code cell. \n",
    "Put your cursor into the cell and press Shift+Enter to execute it and select the next one, or click 'Run Cell' button.\n",
    "\n",
    "Press Double Shift to search everywhere for classes, files, tool windows, actions, and settings.\n",
    "\n",
    "To learn more about Jupyter Notebooks in PyCharm, see [help](https://www.jetbrains.com/help/pycharm/ipython-notebook-support.html).\n",
    "For an overview of PyCharm, go to Help -> Learn IDE features or refer to [our documentation](https://www.jetbrains.com/help/pycharm/getting-started.html)."
   ],
   "id": "8a77807f92f26ee"
  },
  {
   "metadata": {
    "ExecuteTime": {
     "end_time": "2025-03-25T18:29:41.058535Z",
     "start_time": "2025-03-25T18:29:40.977312Z"
    }
   },
   "cell_type": "code",
   "source": [
    "import os, requests\n",
    "import random\n",
    "\n",
    "from bleach import clean\n",
    "from dotenv import load_dotenv\n",
    "\n",
    "load_dotenv()\n",
    "\n",
    "API_KEY = os.environ.get('key')\n",
    "REGION = 'na1' \n",
    "\n",
    "root = 'https://americas.api.riotgames.com'"
   ],
   "id": "fbc121e30a2defb3",
   "outputs": [],
   "execution_count": 1
  },
  {
   "metadata": {
    "ExecuteTime": {
     "end_time": "2025-03-25T18:29:54.734630Z",
     "start_time": "2025-03-25T18:29:54.730082Z"
    }
   },
   "cell_type": "code",
   "source": [
    "champList = ['aphelios', 'ashe', 'caitlyn', 'corki', 'draven', 'ezreal', 'jhin', 'jinx', 'kaisa', 'kalista', 'kogmaw', 'lucian', 'missfortune', 'nilah', 'samira', 'sivir', 'smolder', 'tristana', 'twitch', 'varus', 'vayne', 'xayah', 'zeri']\n",
    "champListLength = len(champList)\n",
    "\n",
    "def pickRandomChamp(champList):\n",
    "    return champList[random.randint(0, champListLength - 1)]"
   ],
   "id": "f4b1e07a930561cc",
   "outputs": [
    {
     "name": "stdout",
     "output_type": "stream",
     "text": [
      "caitlyn\n"
     ]
    }
   ],
   "execution_count": 5
  },
  {
   "metadata": {
    "ExecuteTime": {
     "end_time": "2025-03-25T19:01:34.295300Z",
     "start_time": "2025-03-25T19:01:14.588280Z"
    }
   },
   "cell_type": "code",
   "source": [
    "from bs4 import BeautifulSoup\n",
    "winRateDict = {}\n",
    "\n",
    "def updateWinRates(winRateDict):\n",
    "    headers = {\n",
    "        'User-Agent': 'Mozilla/5.0 (compatible; YourAppName/1.0)'\n",
    "    }\n",
    "    for champ in champList:\n",
    "        opggURL = f'https://www.op.gg/champions/{champ}/build'\n",
    "        response = requests.get(opggURL, headers=headers)\n",
    "        if response.status_code == 200:\n",
    "            soup = BeautifulSoup(response.text, 'html.parser')\n",
    "            winRateEm = soup.find('em', string='Win rate')\n",
    "            winRateB = winRateEm.find_next('b', class_='text-[12px]')\n",
    "            if winRateB:\n",
    "                raw_text = winRateB.get_text(separator=\" \", strip=True)\n",
    "                winRate = raw_text.replace('\"', '').strip()\n",
    "                winRateDict.update({champ: winRate.strip(\" %\")})\n",
    "        else:\n",
    "            print(f\"Failed to retrieve data: {response.status_code}\")\n",
    "            \n",
    "updateWinRates(winRateDict)"
   ],
   "id": "9482e98921397ae2",
   "outputs": [],
   "execution_count": 16
  },
  {
   "metadata": {
    "ExecuteTime": {
     "end_time": "2025-03-25T19:06:53.897855Z",
     "start_time": "2025-03-25T19:06:35.188919Z"
    }
   },
   "cell_type": "code",
   "source": [
    "pickRateDict = {}\n",
    "\n",
    "def updatePickRates(pickRateDict):\n",
    "    headers = {\n",
    "        'User-Agent': 'Mozilla/5.0 (compatible; YourAppName/1.0)'\n",
    "    }\n",
    "    for champ in champList:\n",
    "        opggURL = f'https://www.op.gg/champions/{champ}/build'\n",
    "        response = requests.get(opggURL, headers=headers)\n",
    "        if response.status_code == 200:\n",
    "            soup = BeautifulSoup(response.text, 'html.parser')\n",
    "            pickRateEm = soup.find('em', string='Pick rate')\n",
    "            pickRateB = pickRateEm.find_next('b', class_='text-[12px]')\n",
    "            if pickRateB:\n",
    "                raw_text = pickRateB.get_text(separator=\" \", strip=True)\n",
    "                pickRate = raw_text.replace('\"', '').strip()\n",
    "                pickRateDict.update({champ: pickRate.strip(\" %\")})\n",
    "        else:\n",
    "            print(f\"Failed to retrieve data: {response.status_code}\")\n",
    "            \n",
    "updatePickRates(pickRateDict)"
   ],
   "id": "1f76b299f46ff3cd",
   "outputs": [],
   "execution_count": 18
  },
  {
   "metadata": {
    "ExecuteTime": {
     "end_time": "2025-03-25T19:06:56.383026Z",
     "start_time": "2025-03-25T19:06:56.379960Z"
    }
   },
   "cell_type": "code",
   "source": "print(pickRateDict)",
   "id": "46306b813c7a602d",
   "outputs": [
    {
     "name": "stdout",
     "output_type": "stream",
     "text": [
      "{'aphelios': '5.66', 'ashe': '9.35', 'caitlyn': '12.41', 'corki': '3.53', 'draven': '4.75', 'ezreal': '19.58', 'jhin': '19.34', 'jinx': '16.81', 'kaisa': '21.49', 'kalista': '1.92', 'kogmaw': '2.04', 'lucian': '10.84', 'missfortune': '7.03', 'nilah': '2.02', 'samira': '3.44', 'sivir': '4.22', 'smolder': '5.58', 'tristana': '10.34', 'twitch': '4.19', 'varus': '7.52', 'vayne': '6.05', 'xayah': '5.05', 'zeri': '3.49'}\n"
     ]
    }
   ],
   "execution_count": 19
  }
 ],
 "metadata": {
  "kernelspec": {
   "display_name": "Python 3",
   "language": "python",
   "name": "python3"
  },
  "language_info": {
   "codemirror_mode": {
    "name": "ipython",
    "version": 2
   },
   "file_extension": ".py",
   "mimetype": "text/x-python",
   "name": "python",
   "nbconvert_exporter": "python",
   "pygments_lexer": "ipython2",
   "version": "2.7.6"
  }
 },
 "nbformat": 4,
 "nbformat_minor": 5
}
