{
 "cells": [
  {
   "metadata": {},
   "cell_type": "markdown",
   "source": [
    "# This is a sample Jupyter Notebook\n",
    "\n",
    "Below is an example of a code cell. \n",
    "Put your cursor into the cell and press Shift+Enter to execute it and select the next one, or click 'Run Cell' button.\n",
    "\n",
    "Press Double Shift to search everywhere for classes, files, tool windows, actions, and settings.\n",
    "\n",
    "To learn more about Jupyter Notebooks in PyCharm, see [help](https://www.jetbrains.com/help/pycharm/ipython-notebook-support.html).\n",
    "For an overview of PyCharm, go to Help -> Learn IDE features or refer to [our documentation](https://www.jetbrains.com/help/pycharm/getting-started.html)."
   ],
   "id": "8a77807f92f26ee"
  },
  {
   "metadata": {
    "ExecuteTime": {
     "end_time": "2025-03-25T20:21:57.419878Z",
     "start_time": "2025-03-25T20:21:57.415875Z"
    }
   },
   "cell_type": "code",
   "source": [
    "import os, requests\n",
    "import random\n",
    "from dotenv import load_dotenv\n",
    "from bs4 import BeautifulSoup\n",
    "\n",
    "load_dotenv()\n",
    "API_KEY = os.environ.get('key')\n",
    "REGION = 'na1' \n",
    "root = 'https://americas.api.riotgames.com'\n",
    "winRateDict = {}\n",
    "pickRateDict = {}\n",
    "top5WR = {}\n",
    "champList = ['aphelios', 'ashe', 'caitlyn', 'corki', 'draven', 'ezreal', 'jhin', 'jinx', 'kaisa', 'kalista', 'kogmaw', 'lucian', 'missfortune', 'nilah', 'samira', 'sivir', 'smolder', 'tristana', 'twitch', 'varus', 'vayne', 'xayah', 'zeri']\n",
    "champListLength = len(champList)\n",
    "headers = {\n",
    "    'User-Agent': 'Mozilla/5.0 (compatible; YourAppName/1.0)'\n",
    "}"
   ],
   "id": "fbc121e30a2defb3",
   "outputs": [],
   "execution_count": 69
  },
  {
   "metadata": {
    "ExecuteTime": {
     "end_time": "2025-03-25T20:26:39.811514Z",
     "start_time": "2025-03-25T20:26:39.804247Z"
    }
   },
   "cell_type": "code",
   "source": [
    "def updateWinRates(winRateDict, headers):\n",
    "    for champ in champList:\n",
    "        opggURL = f'https://www.op.gg/champions/{champ}/build'\n",
    "        response = requests.get(opggURL, headers=headers)\n",
    "        if response.status_code == 200:\n",
    "            soup = BeautifulSoup(response.text, 'html.parser')\n",
    "            winRateEm = soup.find('em', string='Win rate')\n",
    "            winRateB = winRateEm.find_next('b', class_='text-[12px]')\n",
    "            if winRateB:\n",
    "                raw_text = winRateB.get_text(separator=\" \", strip=True)\n",
    "                winRate = raw_text.replace('\"', '').strip()\n",
    "                winRateDict.update({champ: winRate.strip(\" %\")})\n",
    "        else:\n",
    "            print(f\"Failed to retrieve data: {response.status_code}\")\n",
    "            \n",
    "def updatePickRates(pickRateDict, headers):\n",
    "    for champ in champList:\n",
    "        opggURL = f'https://www.op.gg/champions/{champ}/build'\n",
    "        response = requests.get(opggURL, headers=headers)\n",
    "        if response.status_code == 200:\n",
    "            soup = BeautifulSoup(response.text, 'html.parser')\n",
    "            pickRateEm = soup.find('em', string='Pick rate')\n",
    "            pickRateB = pickRateEm.find_next('b', class_='text-[12px]')\n",
    "            if pickRateB:\n",
    "                raw_text = pickRateB.get_text(separator=\" \", strip=True)\n",
    "                pickRate = raw_text.replace('\"', '').strip()\n",
    "                pickRateDict.update({champ: pickRate.strip(\" %\")})\n",
    "        else:\n",
    "            print(f\"Failed to retrieve data: {response.status_code}\")\n",
    "\n",
    "def updateTop5WR(top5WR, winRateDict):\n",
    "    for key, value in winRateDict.items():\n",
    "        currWR = float(winRateDict.get(key))\n",
    "        if len(top5WR) < 5:\n",
    "            top5WR[key] = currWR\n",
    "        else:\n",
    "            smallest_key = min(top5WR, key=top5WR.get)\n",
    "            if currWR > top5WR[smallest_key]:\n",
    "                top5WR.pop(smallest_key)\n",
    "                top5WR[key] = currWR\n",
    "\n",
    "def getRandomTop5WR(top5WR):\n",
    "    keyList = list(top5WR.keys())\n",
    "    randomKey = random.choice(keyList)\n",
    "    print(f'Your random champion is {randomKey.capitalize()}!\\nWin rate: {top5WR[randomKey]}')\n",
    "    \n",
    "def pickRandomChamp(champList):\n",
    "    return champList[random.randint(0, champListLength - 1)]"
   ],
   "id": "9482e98921397ae2",
   "outputs": [],
   "execution_count": 78
  },
  {
   "metadata": {
    "ExecuteTime": {
     "end_time": "2025-03-25T20:22:35.501065Z",
     "start_time": "2025-03-25T20:22:17.267087Z"
    }
   },
   "cell_type": "code",
   "source": "updateWinRates(winRateDict, headers)",
   "id": "2ea426bd77dd0dc4",
   "outputs": [],
   "execution_count": 71
  },
  {
   "metadata": {
    "ExecuteTime": {
     "end_time": "2025-03-25T20:22:54.079256Z",
     "start_time": "2025-03-25T20:22:35.504065Z"
    }
   },
   "cell_type": "code",
   "source": "updatePickRates(pickRateDict, headers)",
   "id": "1f76b299f46ff3cd",
   "outputs": [],
   "execution_count": 72
  },
  {
   "metadata": {
    "ExecuteTime": {
     "end_time": "2025-03-25T20:22:54.113385Z",
     "start_time": "2025-03-25T20:22:54.110131Z"
    }
   },
   "cell_type": "code",
   "source": "updateTop5WR(top5WR, winRateDict)",
   "id": "46306b813c7a602d",
   "outputs": [],
   "execution_count": 73
  },
  {
   "metadata": {
    "ExecuteTime": {
     "end_time": "2025-03-25T20:27:21.042897Z",
     "start_time": "2025-03-25T20:27:21.038548Z"
    }
   },
   "cell_type": "code",
   "source": "getRandomTop5WR(top5WR)",
   "id": "c4c56f5981a02dc7",
   "outputs": [
    {
     "name": "stdout",
     "output_type": "stream",
     "text": [
      "Your random champion is Kogmaw!\n",
      "Win rate: 53.59\n",
      "{'jinx': 52.01, 'kogmaw': 53.59, 'nilah': 53.85, 'tristana': 51.71, 'vayne': 52.14}\n"
     ]
    }
   ],
   "execution_count": 108
  }
 ],
 "metadata": {
  "kernelspec": {
   "display_name": "Python 3",
   "language": "python",
   "name": "python3"
  },
  "language_info": {
   "codemirror_mode": {
    "name": "ipython",
    "version": 2
   },
   "file_extension": ".py",
   "mimetype": "text/x-python",
   "name": "python",
   "nbconvert_exporter": "python",
   "pygments_lexer": "ipython2",
   "version": "2.7.6"
  }
 },
 "nbformat": 4,
 "nbformat_minor": 5
}
