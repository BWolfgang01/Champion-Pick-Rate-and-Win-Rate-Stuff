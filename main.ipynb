{
 "cells": [
  {
   "metadata": {},
   "cell_type": "markdown",
   "source": [
    "# This is a sample Jupyter Notebook\n",
    "\n",
    "Below is an example of a code cell. \n",
    "Put your cursor into the cell and press Shift+Enter to execute it and select the next one, or click 'Run Cell' button.\n",
    "\n",
    "Press Double Shift to search everywhere for classes, files, tool windows, actions, and settings.\n",
    "\n",
    "To learn more about Jupyter Notebooks in PyCharm, see [help](https://www.jetbrains.com/help/pycharm/ipython-notebook-support.html).\n",
    "For an overview of PyCharm, go to Help -> Learn IDE features or refer to [our documentation](https://www.jetbrains.com/help/pycharm/getting-started.html)."
   ],
   "id": "8a77807f92f26ee"
  },
  {
   "metadata": {
    "ExecuteTime": {
     "end_time": "2025-03-29T02:06:58.473289Z",
     "start_time": "2025-03-29T02:06:58.468718Z"
    }
   },
   "cell_type": "code",
   "source": [
    "import math\n",
    "import os, requests\n",
    "import random\n",
    "from dotenv import load_dotenv\n",
    "from bs4 import BeautifulSoup\n",
    "import numpy as np\n",
    "import math\n",
    "\n",
    "load_dotenv()\n",
    "API_KEY = os.environ.get('key')\n",
    "REGION = 'na1' \n",
    "root = 'https://americas.api.riotgames.com'\n",
    "winRateDict = {}\n",
    "pickRateDict = {}\n",
    "top5WR = {}\n",
    "champList = ['aphelios', 'ashe', 'caitlyn', 'corki', 'draven', 'ezreal', 'jhin', 'jinx', 'kaisa', 'kalista', 'kogmaw', 'lucian', 'missfortune', 'nilah', 'samira', 'sivir', 'smolder', 'tristana', 'twitch', 'varus', 'vayne', 'xayah', 'zeri']\n",
    "champListLength = len(champList)\n",
    "headers = {\n",
    "    'User-Agent': 'Mozilla/5.0 (compatible; YourAppName/1.0)'\n",
    "}"
   ],
   "id": "fbc121e30a2defb3",
   "outputs": [],
   "execution_count": 187
  },
  {
   "metadata": {
    "ExecuteTime": {
     "end_time": "2025-03-29T02:06:59.242489Z",
     "start_time": "2025-03-29T02:06:59.233973Z"
    }
   },
   "cell_type": "code",
   "source": [
    "def updateWinRates(winRateDict, headers):\n",
    "    for champ in champList:\n",
    "        opggURL = f'https://www.op.gg/champions/{champ}/build'\n",
    "        response = requests.get(opggURL, headers=headers)\n",
    "        if response.status_code == 200:\n",
    "            soup = BeautifulSoup(response.text, 'html.parser')\n",
    "            winRateEm = soup.find('em', string='Win rate')\n",
    "            winRateB = winRateEm.find_next('b', class_='text-[12px]')\n",
    "            if winRateB:\n",
    "                raw_text = winRateB.get_text(separator=\" \", strip=True)\n",
    "                winRate = raw_text.replace('\"', '').strip()\n",
    "                winRateDict.update({champ: float(winRate.strip(\" %\"))})\n",
    "        else:\n",
    "            print(f\"Failed to retrieve data: {response.status_code}\")\n",
    "            \n",
    "def updatePickRates(pickRateDict, headers):\n",
    "    for champ in champList:\n",
    "        opggURL = f'https://www.op.gg/champions/{champ}/build'\n",
    "        response = requests.get(opggURL, headers=headers)\n",
    "        if response.status_code == 200:\n",
    "            soup = BeautifulSoup(response.text, 'html.parser')\n",
    "            pickRateEm = soup.find('em', string='Pick rate')\n",
    "            pickRateB = pickRateEm.find_next('b', class_='text-[12px]')\n",
    "            if pickRateB:\n",
    "                raw_text = pickRateB.get_text(separator=\" \", strip=True)\n",
    "                pickRate = raw_text.replace('\"', '').strip()\n",
    "                pickRateDict.update({champ: float(pickRate.strip(\" %\"))})\n",
    "        else:\n",
    "            print(f\"Failed to retrieve data: {response.status_code}\")\n",
    "\n",
    "def getTop5(top5, winRateDict):\n",
    "    for key, value in winRateDict.items():\n",
    "        currWR = float(winRateDict.get(key))\n",
    "        if len(top5) < 5:\n",
    "            top5[key] = currWR\n",
    "        else:\n",
    "            smallest_key = min(top5, key=top5.get)\n",
    "            if currWR > top5[smallest_key]:\n",
    "                top5.pop(smallest_key)\n",
    "                top5[key] = currWR\n",
    "\n",
    "def getRandomTop5WR(top5WR):\n",
    "    keyList = list(top5WR.keys())\n",
    "    randomKey = random.choice(keyList)\n",
    "    print(f'Your random champion is {randomKey.capitalize()}!\\nWin rate: {top5WR[randomKey]}')\n",
    "    \n",
    "def pickRandomChamp(champList):\n",
    "    return champList[random.randint(0, champListLength - 1)]\n",
    "\n",
    "def addZScores(dictionary):\n",
    "    zScoreDict = {}\n",
    "    prSTD = np.std(list(dictionary.values()))\n",
    "    prMean = np.mean(list(dictionary.values()))\n",
    "    for key, value in dictionary.items():\n",
    "        floatVal = float(value)\n",
    "        currentKey = key\n",
    "        zScore = float((floatVal - prMean) / prSTD)\n",
    "        zScoreDict[key] = zScore\n",
    "    return zScoreDict\n",
    "\n",
    "def joinZPicKRate(winRateDict, zscoreDict):\n",
    "    result = {}\n",
    "    for key, value in winRateDict.items():\n",
    "        result.update({key: 1.5 * value + 2 * zscoreDict[key]})\n",
    "    return result"
   ],
   "id": "9482e98921397ae2",
   "outputs": [],
   "execution_count": 188
  },
  {
   "metadata": {
    "ExecuteTime": {
     "end_time": "2025-03-29T02:07:21.608239Z",
     "start_time": "2025-03-29T02:07:01.724973Z"
    }
   },
   "cell_type": "code",
   "source": "updateWinRates(winRateDict, headers)",
   "id": "2ea426bd77dd0dc4",
   "outputs": [],
   "execution_count": 189
  },
  {
   "metadata": {
    "ExecuteTime": {
     "end_time": "2025-03-29T02:07:40.923339Z",
     "start_time": "2025-03-29T02:07:21.612239Z"
    }
   },
   "cell_type": "code",
   "source": "updatePickRates(pickRateDict, headers)",
   "id": "1f76b299f46ff3cd",
   "outputs": [],
   "execution_count": 190
  },
  {
   "metadata": {
    "ExecuteTime": {
     "end_time": "2025-03-29T02:07:40.934357Z",
     "start_time": "2025-03-29T02:07:40.931563Z"
    }
   },
   "cell_type": "code",
   "source": "getTop5(top5WR, winRateDict)",
   "id": "46306b813c7a602d",
   "outputs": [],
   "execution_count": 191
  },
  {
   "metadata": {
    "ExecuteTime": {
     "end_time": "2025-03-29T02:07:40.949663Z",
     "start_time": "2025-03-29T02:07:40.946495Z"
    }
   },
   "cell_type": "code",
   "source": "getRandomTop5WR(top5WR)",
   "id": "c4c56f5981a02dc7",
   "outputs": [
    {
     "name": "stdout",
     "output_type": "stream",
     "text": [
      "Your random champion is Tristana!\n",
      "Win rate: 51.82\n"
     ]
    }
   ],
   "execution_count": 192
  },
  {
   "metadata": {
    "ExecuteTime": {
     "end_time": "2025-03-29T02:07:41.055720Z",
     "start_time": "2025-03-29T02:07:41.052591Z"
    }
   },
   "cell_type": "code",
   "source": [
    "zScorePRDict = addZScores(pickRateDict)\n",
    "zScoreWRDict = addZScores(winRateDict)"
   ],
   "id": "4a77c9c8f5ea6ece",
   "outputs": [],
   "execution_count": 193
  },
  {
   "metadata": {
    "ExecuteTime": {
     "end_time": "2025-03-29T02:09:55.586287Z",
     "start_time": "2025-03-29T02:09:55.581223Z"
    }
   },
   "cell_type": "code",
   "source": [
    "truePowerLevelDict = joinZPicKRate(zScoreWRDict, zScorePRDict)\n",
    "\n",
    "top5PL = dict(sorted(truePowerLevelDict.items(), key=lambda item: item[1], reverse=True)[:5])\n",
    "truePowerLevelDict = dict(sorted(truePowerLevelDict.items(), key=lambda item: item[1], reverse=True))\n",
    "sortedWR = dict(sorted(winRateDict.items(), key=lambda item: item[1], reverse=True))\n",
    "sortedPR = dict(sorted(pickRateDict.items(), key=lambda item: item[1], reverse=True))\n",
    "\n",
    "print(f'Win Rates: {sortedWR}\\n')\n",
    "print(f'Pick Rates: {sortedPR}\\n')\n",
    "print(f'Power Level: {truePowerLevelDict}\\n')\n",
    "print(f'Top 5: {top5PL}\\n')"
   ],
   "id": "2aa27a64efb943dc",
   "outputs": [
    {
     "name": "stdout",
     "output_type": "stream",
     "text": [
      "Win Rates: {'nilah': 53.74, 'kogmaw': 53.41, 'vayne': 52.27, 'jinx': 52.01, 'tristana': 51.82, 'twitch': 51.36, 'missfortune': 51.31, 'lucian': 51.22, 'sivir': 51.06, 'samira': 50.79, 'jhin': 50.69, 'xayah': 50.62, 'draven': 50.54, 'zeri': 50.46, 'ashe': 50.44, 'corki': 50.43, 'aphelios': 50.19, 'smolder': 50.16, 'kaisa': 49.74, 'caitlyn': 49.69, 'varus': 49.68, 'kalista': 48.66, 'ezreal': 47.82}\n",
      "\n",
      "Pick Rates: {'kaisa': 21.37, 'jhin': 19.12, 'ezreal': 19.06, 'jinx': 17.12, 'caitlyn': 12.52, 'lucian': 11.19, 'tristana': 10.83, 'ashe': 9.09, 'varus': 7.4, 'missfortune': 6.97, 'vayne': 6.11, 'aphelios': 5.6, 'smolder': 5.46, 'xayah': 5.07, 'draven': 4.78, 'twitch': 4.29, 'sivir': 4.23, 'corki': 3.52, 'zeri': 3.49, 'samira': 3.47, 'nilah': 2.01, 'kogmaw': 2.0, 'kalista': 1.87}\n",
      "\n",
      "Power Level: {'jinx': 4.493207328775545, 'jhin': 3.664140828149875, 'kaisa': 3.3455088441653063, 'tristana': 2.117604512920501, 'lucian': 1.5524133254077368, 'nilah': 1.296028125819241, 'vayne': 1.0151106535834602, 'kogmaw': 0.9138272315649472, 'ezreal': 0.34940206448362554, 'caitlyn': 0.2524952460116092, 'missfortune': 0.20821913086459914, 'ashe': -0.0631807145222501, 'twitch': -0.653653786076707, 'sivir': -1.0185713888203178, 'xayah': -1.2354721047603225, 'draven': -1.4267677590857089, 'varus': -1.5151855157325897, 'aphelios': -1.5472275122922712, 'samira': -1.5891611410603517, 'smolder': -1.629682394251172, 'zeri': -1.9610717841912337, 'corki': -1.9852152431175116, 'kalista': -4.582767947835897}\n",
      "\n",
      "Top 5: {'jinx': 4.493207328775545, 'jhin': 3.664140828149875, 'kaisa': 3.3455088441653063, 'tristana': 2.117604512920501, 'lucian': 1.5524133254077368}\n",
      "\n"
     ]
    }
   ],
   "execution_count": 195
  }
 ],
 "metadata": {
  "kernelspec": {
   "display_name": "Python 3",
   "language": "python",
   "name": "python3"
  },
  "language_info": {
   "codemirror_mode": {
    "name": "ipython",
    "version": 2
   },
   "file_extension": ".py",
   "mimetype": "text/x-python",
   "name": "python",
   "nbconvert_exporter": "python",
   "pygments_lexer": "ipython2",
   "version": "2.7.6"
  }
 },
 "nbformat": 4,
 "nbformat_minor": 5
}
