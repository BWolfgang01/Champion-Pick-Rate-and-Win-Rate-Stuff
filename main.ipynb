{
 "cells": [
  {
   "metadata": {},
   "cell_type": "markdown",
   "source": [
    "# This is a sample Jupyter Notebook\n",
    "\n",
    "Below is an example of a code cell. \n",
    "Put your cursor into the cell and press Shift+Enter to execute it and select the next one, or click 'Run Cell' button.\n",
    "\n",
    "Press Double Shift to search everywhere for classes, files, tool windows, actions, and settings.\n",
    "\n",
    "To learn more about Jupyter Notebooks in PyCharm, see [help](https://www.jetbrains.com/help/pycharm/ipython-notebook-support.html).\n",
    "For an overview of PyCharm, go to Help -> Learn IDE features or refer to [our documentation](https://www.jetbrains.com/help/pycharm/getting-started.html)."
   ],
   "id": "8a77807f92f26ee"
  },
  {
   "metadata": {
    "ExecuteTime": {
     "end_time": "2025-04-04T04:30:15.797967Z",
     "start_time": "2025-04-04T04:30:15.793902Z"
    }
   },
   "cell_type": "code",
   "source": [
    "import os, requests\n",
    "import random\n",
    "from dotenv import load_dotenv\n",
    "from bs4 import BeautifulSoup\n",
    "import numpy as np\n",
    "import math"
   ],
   "id": "fbc121e30a2defb3",
   "outputs": [],
   "execution_count": 37
  },
  {
   "metadata": {
    "ExecuteTime": {
     "end_time": "2025-04-04T04:18:29.018130Z",
     "start_time": "2025-04-04T04:18:29.014759Z"
    }
   },
   "cell_type": "code",
   "source": "API_KEY = os.environ.get('key')",
   "id": "b89783a24986a90a",
   "outputs": [],
   "execution_count": 4
  },
  {
   "metadata": {
    "ExecuteTime": {
     "end_time": "2025-04-04T04:30:14.582721Z",
     "start_time": "2025-04-04T04:30:14.577648Z"
    }
   },
   "cell_type": "code",
   "source": [
    "load_dotenv()\n",
    "REGION = 'na1'\n",
    "root = 'https://americas.api.riotgames.com'\n",
    "winRateDict = {}\n",
    "pickRateDict = {}\n",
    "top5WR = {}\n",
    "\n",
    "champListADC = ['aphelios', 'ashe', 'caitlyn', 'corki', 'draven', 'ezreal', 'jhin', 'jinx', 'kaisa', 'kalista', 'kogmaw', 'lucian', 'missfortune', 'nilah', 'samira', 'sivir', 'smolder', 'tristana', 'twitch', 'varus', 'vayne', 'xayah', 'zeri']\n",
    "champListLengthADC = len(champListADC)\n",
    "headersOPGG = {\n",
    "    \"User-Agent\": \"Mozilla/5.0 (Windows NT 10.0; Win64; x64) AppleWebKit/537.36 (KHTML, like Gecko) Chrome/134.0.0.0 Safari/537.36\",\n",
    "}\n",
    "headers = {\n",
    "    \"User-Agent\": \"Mozilla/5.0 (Windows NT 10.0; Win64; x64) AppleWebKit/537.36 (KHTML, like Gecko) Chrome/134.0.0.0 Safari/537.36\",\n",
    "    \"Accept-Language\": \"en-US,en;q=0.9\",\n",
    "    \"Accept-Charset\": \"application/x-www-form-urlencoded; charset=UTF-8\",\n",
    "    \"Origin\": \"https://developer.riotgames.com\",\n",
    "    \"X-Riot-Token\": API_KEY\n",
    "}\n",
    "topLaneWRDict = {}\n",
    "topLanePRDict = {}"
   ],
   "id": "677a30a4cde02e9d",
   "outputs": [],
   "execution_count": 36
  },
  {
   "metadata": {
    "ExecuteTime": {
     "end_time": "2025-04-04T05:05:33.208059Z",
     "start_time": "2025-04-04T05:05:33.204524Z"
    }
   },
   "cell_type": "code",
   "source": "tierSort = '?tier=diamond_plus' #NOTE: Edit as needed",
   "id": "9ff6417230efd468",
   "outputs": [],
   "execution_count": 103
  },
  {
   "metadata": {
    "ExecuteTime": {
     "end_time": "2025-04-04T05:03:48.829923Z",
     "start_time": "2025-04-04T05:03:48.820279Z"
    }
   },
   "cell_type": "code",
   "source": [
    "def updateWinRates(dictionary, headers, champList, tier, role):\n",
    "    for champ in champList:\n",
    "        opggURL = f'https://www.op.gg/champions/{champ}/build/{role}{tier}'\n",
    "        response = requests.get(opggURL, headers=headers)\n",
    "        if response.status_code == 200:\n",
    "            soup = BeautifulSoup(response.text, 'html.parser')\n",
    "            winRateEm = soup.find('em', string='Win rate')\n",
    "            if winRateEm:\n",
    "                winRateB = winRateEm.find_next('b', class_='text-[12px]')\n",
    "                if winRateB:\n",
    "                    raw_text = winRateB.get_text(separator=\" \", strip=True)\n",
    "                    winRate = raw_text.replace('\"', '').strip()\n",
    "                    dictionary.update({champ: float(winRate.strip(\" %\"))})\n",
    "            else:\n",
    "                print(f\"Win rate value not found for champion: {champ}\")\n",
    "        else:\n",
    "            print(f\"Win rate element not found for champion: {champ}\")\n",
    "\n",
    "def updatePickRates(dictionary, headers, champList, tier, role):\n",
    "    for champ in champList:\n",
    "        opggURL = f'https://www.op.gg/champions/{champ}/build/{role}{tier}'\n",
    "        response = requests.get(opggURL, headers=headers)\n",
    "        if response.status_code == 200:\n",
    "            soup = BeautifulSoup(response.text, 'html.parser')\n",
    "            pickRateEm = soup.find('em', string='Pick rate')\n",
    "            pickRateB = pickRateEm.find_next('b', class_='text-[12px]')\n",
    "            if pickRateB:\n",
    "                raw_text = pickRateB.get_text(separator=\" \", strip=True)\n",
    "                pickRate = raw_text.replace('\"', '').strip()\n",
    "                dictionary.update({champ: float(pickRate.strip(\" %\"))})\n",
    "        else:\n",
    "            print(f\"Failed to retrieve data: {response.status_code}\")\n",
    "\n",
    "def getTop5(top5, winRateDict):\n",
    "    for key, value in winRateDict.items():\n",
    "        currWR = float(winRateDict.get(key))\n",
    "        if len(top5) < 5:\n",
    "            top5[key] = currWR\n",
    "        else:\n",
    "            smallest_key = min(top5, key=top5.get)\n",
    "            if currWR > top5[smallest_key]:\n",
    "                top5.pop(smallest_key)\n",
    "                top5[key] = currWR\n",
    "\n",
    "def addZScores(dictionary):\n",
    "    zScoreDict = {}\n",
    "    std = np.std(list(dictionary.values()))\n",
    "    mean = np.mean(list(dictionary.values()))\n",
    "    for key, value in dictionary.items():\n",
    "        floatVal = float(value)\n",
    "        currentKey = key\n",
    "        zScore = float((floatVal - mean) / std)\n",
    "        zScoreDict[key] = zScore\n",
    "    return zScoreDict\n",
    "\n",
    "def joinZPicKRate(winRateDict, zscoreDict):\n",
    "    result = {}\n",
    "    for key, value in winRateDict.items():\n",
    "        result.update({key: 1.5 * value + 1.7 * (zscoreDict[key])})\n",
    "    return result\n",
    "\n",
    "\n",
    "def getMatchHistory(count, username, tagline, headers):\n",
    "    matches = requests.get(f'{root}/lol/match/v5/matches/by-puuid/{playerPUUID}/ids?start=0&count={count}&api_key={API_KEY}', headers=headers).json()\n",
    "    return matches\n",
    "\n",
    "def getMatchInformation(matchID, headers):\n",
    "    return requests.get(f'{root}/lol/match/v5/matches/{matchID}?api_key={API_KEY}', headers=headers).json()"
   ],
   "id": "9482e98921397ae2",
   "outputs": [],
   "execution_count": 98
  },
  {
   "metadata": {
    "ExecuteTime": {
     "end_time": "2025-04-04T04:39:02.362453Z",
     "start_time": "2025-04-04T04:39:02.358859Z"
    }
   },
   "cell_type": "code",
   "source": [
    "def getChampsFromOPGG(headersOPGG, role):\n",
    "    url = f\"https://www.op.gg/champions?position={role}\"\n",
    "    response = requests.get(url, headers=headersOPGG)\n",
    "    if response.status_code == 200:\n",
    "        html_content = response.text\n",
    "        soup = BeautifulSoup(html_content, 'html.parser')\n",
    "    \n",
    "    champList = []\n",
    "    for tag in soup.find_all('strong', class_='flex-1 truncate text-xs max-[420px]:sr-only'):\n",
    "        name = tag.get_text(strip=True).lower()\n",
    "        clean_name = name.replace(\"'\", \"\").replace(\".\", \"\").replace(\" \", \"\")\n",
    "        champList.append(clean_name)\n",
    "    return champList"
   ],
   "id": "829023c28d0a52bb",
   "outputs": [],
   "execution_count": 48
  },
  {
   "metadata": {
    "ExecuteTime": {
     "end_time": "2025-04-04T04:47:46.897080Z",
     "start_time": "2025-04-04T04:47:45.824881Z"
    }
   },
   "cell_type": "code",
   "source": [
    "champListTOP = getChampsFromOPGG(headersOPGG, \"top\")\n",
    "champListTOP.remove(\"swain\")\n",
    "champListTOP.remove(\"tahmkench\")\n",
    "champListTOP.remove(\"wukong\")\n",
    "print(champListTOP)"
   ],
   "id": "637c4b76b39d896f",
   "outputs": [
    {
     "name": "stdout",
     "output_type": "stream",
     "text": [
      "['riven', 'quinn', 'kayle', 'yorick', 'sett', 'darius', 'gwen', 'teemo', 'gragas', 'fiora', 'garen', 'warwick', 'malphite', 'camille', 'irelia', 'aatrox', 'jax', 'kennen', 'gangplank', 'urgot', 'gnar', 'yone', 'chogath', 'jayce', 'renekton', 'singed', 'sion', 'shen', 'nasus', 'vladimir', 'ambessa', 'olaf', 'ornn', 'pantheon', 'tryndamere', 'drmundo', 'yasuo', 'poppy', 'volibear', 'mordekaiser', 'cassiopeia', 'kled', 'ryze', 'trundle', 'vayne', 'illaoi', 'heimerdinger', 'rumble', 'ksante', 'sylas', 'akali', 'zac']\n"
     ]
    }
   ],
   "execution_count": 60
  },
  {
   "metadata": {
    "ExecuteTime": {
     "end_time": "2025-04-04T05:06:31.703394Z",
     "start_time": "2025-04-04T05:05:45.713045Z"
    }
   },
   "cell_type": "code",
   "source": [
    "updateWinRates(topLaneWRDict, headersOPGG, champListTOP, tierSort, \"top\")\n",
    "print(topLaneWRDict)"
   ],
   "id": "a4057ea5f95d050b",
   "outputs": [
    {
     "name": "stdout",
     "output_type": "stream",
     "text": [
      "{'riven': 53.53, 'quinn': 53.54, 'kayle': 51.66, 'yorick': 50.8, 'sett': 52.0, 'darius': 50.02, 'fiora': 52.93, 'warwick': 52.73, 'gwen': 51.21, 'teemo': 49.55, 'garen': 48.19, 'gragas': 52.4, 'camille': 50.97, 'malphite': 51.14, 'aatrox': 49.2, 'irelia': 51.96, 'jax': 50.8, 'kennen': 53.97, 'gangplank': 50.27, 'urgot': 50.25, 'yone': 50.85, 'gnar': 50.36, 'singed': 50.55, 'jayce': 50.17, 'renekton': 48.76, 'sion': 51.73, 'shen': 50.6, 'nasus': 52.02, 'vladimir': 51.75, 'ambessa': 49.58, 'olaf': 52.2, 'pantheon': 51.39, 'ornn': 48.73, 'yasuo': 49.02, 'tryndamere': 51.39, 'volibear': 48.77, 'poppy': 50.9, 'mordekaiser': 47.66, 'ryze': 51.19, 'cassiopeia': 51.97, 'kled': 51.62, 'trundle': 49.54, 'illaoi': 49.25, 'vayne': 51.62, 'heimerdinger': 50.9, 'rumble': 48.75, 'sylas': 48.36, 'akali': 46.08, 'zac': 48.18, 'chogath': 50.66, 'drmundo': 50.26, 'ksante': 47.76}\n"
     ]
    }
   ],
   "execution_count": 104
  },
  {
   "metadata": {
    "ExecuteTime": {
     "end_time": "2025-04-04T05:07:12.888554Z",
     "start_time": "2025-04-04T05:06:31.797388Z"
    }
   },
   "cell_type": "code",
   "source": [
    "updatePickRates(topLanePRDict, headersOPGG, champListTOP, tierSort, \"top\")\n",
    "print(topLanePRDict)"
   ],
   "id": "683e427687f87a99",
   "outputs": [
    {
     "name": "stdout",
     "output_type": "stream",
     "text": [
      "{'riven': 5.49, 'quinn': 1.64, 'kayle': 3.19, 'yorick': 4.04, 'sett': 5.21, 'darius': 6.2, 'gwen': 4.91, 'teemo': 2.12, 'gragas': 3.61, 'fiora': 4.92, 'garen': 8.5, 'warwick': 2.21, 'malphite': 4.03, 'camille': 4.54, 'irelia': 4.18, 'aatrox': 10.05, 'jax': 5.35, 'kennen': 2.01, 'gangplank': 4.19, 'urgot': 3.28, 'gnar': 4.49, 'yone': 5.7, 'chogath': 2.58, 'jayce': 7.71, 'renekton': 5.11, 'singed': 2.44, 'sion': 3.71, 'shen': 3.72, 'nasus': 1.94, 'vladimir': 3.17, 'ambessa': 5.89, 'olaf': 2.3, 'ornn': 3.51, 'pantheon': 2.43, 'tryndamere': 2.29, 'drmundo': 2.59, 'yasuo': 3.04, 'poppy': 1.57, 'volibear': 3.41, 'mordekaiser': 3.73, 'cassiopeia': 0.96, 'kled': 1.26, 'ryze': 1.42, 'trundle': 1.33, 'vayne': 1.08, 'illaoi': 1.36, 'heimerdinger': 0.83, 'rumble': 2.33, 'ksante': 3.9, 'sylas': 1.64, 'akali': 1.57, 'zac': 0.93}\n"
     ]
    }
   ],
   "execution_count": 105
  },
  {
   "metadata": {
    "ExecuteTime": {
     "end_time": "2025-04-04T05:07:12.974379Z",
     "start_time": "2025-04-04T05:07:12.970436Z"
    }
   },
   "cell_type": "code",
   "source": [
    "zScorePRDictTOP = addZScores(topLanePRDict)\n",
    "zScoreWRDictTOP = addZScores(topLaneWRDict)\n",
    "truePowerLevelDictTOP = joinZPicKRate(zScorePRDictTOP, zScoreWRDictTOP)"
   ],
   "id": "792b3a2220c97bdb",
   "outputs": [],
   "execution_count": 106
  },
  {
   "metadata": {
    "ExecuteTime": {
     "end_time": "2025-04-04T05:07:13.016958Z",
     "start_time": "2025-04-04T05:07:13.011958Z"
    }
   },
   "cell_type": "code",
   "source": [
    "top5PLTOP = dict(sorted(truePowerLevelDictTOP.items(), key=lambda item: item[1], reverse=True)[:5])\n",
    "truePowerLevelDictTOP = dict(sorted(truePowerLevelDictTOP.items(), key=lambda item: item[1], reverse=True))\n",
    "sortedWRTOP = dict(sorted(topLaneWRDict.items(), key=lambda item: item[1], reverse=True))\n",
    "sortedPRTOP = dict(sorted(topLanePRDict.items(), key=lambda item: item[1], reverse=True))\n",
    "\n",
    "print(f'Win Rates: {sortedWRTOP}\\n')\n",
    "print(f'Pick Rates: {sortedPRTOP}\\n')\n",
    "print(f'Power Level: {truePowerLevelDictTOP}\\n')\n",
    "print(f'Top 5: {top5PLTOP}\\n')"
   ],
   "id": "b7176f681b05e930",
   "outputs": [
    {
     "name": "stdout",
     "output_type": "stream",
     "text": [
      "Win Rates: {'kennen': 53.97, 'quinn': 53.54, 'riven': 53.53, 'fiora': 52.93, 'warwick': 52.73, 'gragas': 52.4, 'olaf': 52.2, 'nasus': 52.02, 'sett': 52.0, 'cassiopeia': 51.97, 'irelia': 51.96, 'vladimir': 51.75, 'sion': 51.73, 'kayle': 51.66, 'kled': 51.62, 'vayne': 51.62, 'pantheon': 51.39, 'tryndamere': 51.39, 'gwen': 51.21, 'ryze': 51.19, 'malphite': 51.14, 'camille': 50.97, 'poppy': 50.9, 'heimerdinger': 50.9, 'yone': 50.85, 'yorick': 50.8, 'jax': 50.8, 'chogath': 50.66, 'shen': 50.6, 'singed': 50.55, 'gnar': 50.36, 'gangplank': 50.27, 'drmundo': 50.26, 'urgot': 50.25, 'jayce': 50.17, 'darius': 50.02, 'ambessa': 49.58, 'teemo': 49.55, 'trundle': 49.54, 'illaoi': 49.25, 'aatrox': 49.2, 'yasuo': 49.02, 'volibear': 48.77, 'renekton': 48.76, 'rumble': 48.75, 'ornn': 48.73, 'sylas': 48.36, 'garen': 48.19, 'zac': 48.18, 'ksante': 47.76, 'mordekaiser': 47.66, 'akali': 46.08}\n",
      "\n",
      "Pick Rates: {'aatrox': 10.05, 'garen': 8.5, 'jayce': 7.71, 'darius': 6.2, 'ambessa': 5.89, 'yone': 5.7, 'riven': 5.49, 'jax': 5.35, 'sett': 5.21, 'renekton': 5.11, 'fiora': 4.92, 'gwen': 4.91, 'camille': 4.54, 'gnar': 4.49, 'gangplank': 4.19, 'irelia': 4.18, 'yorick': 4.04, 'malphite': 4.03, 'ksante': 3.9, 'mordekaiser': 3.73, 'shen': 3.72, 'sion': 3.71, 'gragas': 3.61, 'ornn': 3.51, 'volibear': 3.41, 'urgot': 3.28, 'kayle': 3.19, 'vladimir': 3.17, 'yasuo': 3.04, 'drmundo': 2.59, 'chogath': 2.58, 'singed': 2.44, 'pantheon': 2.43, 'rumble': 2.33, 'olaf': 2.3, 'tryndamere': 2.29, 'warwick': 2.21, 'teemo': 2.12, 'kennen': 2.01, 'nasus': 1.94, 'quinn': 1.64, 'sylas': 1.64, 'poppy': 1.57, 'akali': 1.57, 'ryze': 1.42, 'illaoi': 1.36, 'trundle': 1.33, 'kled': 1.26, 'vayne': 1.08, 'cassiopeia': 0.96, 'zac': 0.93, 'heimerdinger': 0.83}\n",
      "\n",
      "Power Level: {'riven': 4.457934107620683, 'aatrox': 3.6994546433158524, 'fiora': 3.433824648571234, 'jayce': 2.8611978000547365, 'sett': 2.7437697808658603, 'kennen': 2.2283485917797594, 'yone': 1.9909492710087249, 'irelia': 1.916964691687903, 'gragas': 1.9125057629964415, 'gwen': 1.739833057554135, 'jax': 1.674300701788032, 'darius': 1.5595138689944763, 'garen': 1.524012225836303, 'quinn': 1.5238424394627954, 'sion': 1.3320803486508725, 'camille': 1.2216092136679544, 'warwick': 1.165541083315353, 'malphite': 0.9983122190684391, 'vladimir': 0.9387789243592082, 'ambessa': 0.891082283358946, 'kayle': 0.8658329023898524, 'olaf': 0.7147298341698611, 'yorick': 0.6726114134149072, 'gnar': 0.585312544698144, 'gangplank': 0.2676790629735281, 'nasus': 0.2629784655370726, 'shen': 0.23183731320618522, 'pantheon': 0.01998322085892712, 'tryndamere': -0.08706754278400242, 'urgot': -0.44775956475086237, 'renekton': -0.5092986256537, 'cassiopeia': -0.5353985400768022, 'chogath': -0.5810357700359213, 'kled': -0.6491556673497938, 'vayne': -0.7867923634621314, 'singed': -0.7959341859282528, 'ryze': -0.948398214447097, 'drmundo': -0.9655625678254862, 'poppy': -1.1180265963443303, 'heimerdinger': -1.6838663470283857, 'ornn': -1.7621489204980567, 'volibear': -1.7993964235808793, 'yasuo': -1.8372079983560832, 'teemo': -2.0210548479508157, 'ksante': -2.4149562851206, 'trundle': -2.6349313462443025, 'mordekaiser': -2.6429898183423166, 'rumble': -2.6448252643002554, 'illaoi': -2.896317525549761, 'sylas': -3.5548015482817963, 'zac': -4.274179826021908, 'akali': -5.843714631272695}\n",
      "\n",
      "Top 5: {'riven': 4.457934107620683, 'aatrox': 3.6994546433158524, 'fiora': 3.433824648571234, 'jayce': 2.8611978000547365, 'sett': 2.7437697808658603}\n",
      "\n"
     ]
    }
   ],
   "execution_count": 107
  },
  {
   "metadata": {
    "ExecuteTime": {
     "end_time": "2025-04-02T03:13:06.284323Z",
     "start_time": "2025-04-02T03:12:15.844954Z"
    }
   },
   "cell_type": "code",
   "source": [
    "updateWinRates(winRateDict, headersOPGG, champListADC)\n",
    "updatePickRates(pickRateDict, headersOPGG, champListADC)"
   ],
   "id": "2ea426bd77dd0dc4",
   "outputs": [],
   "execution_count": 45
  },
  {
   "metadata": {
    "ExecuteTime": {
     "end_time": "2025-04-02T03:13:06.291253Z",
     "start_time": "2025-04-02T03:13:06.288321Z"
    }
   },
   "cell_type": "code",
   "source": "getTop5(top5WR, winRateDict)",
   "id": "1f76b299f46ff3cd",
   "outputs": [],
   "execution_count": 46
  },
  {
   "metadata": {
    "ExecuteTime": {
     "end_time": "2025-04-02T03:13:06.303394Z",
     "start_time": "2025-04-02T03:13:06.300395Z"
    }
   },
   "cell_type": "code",
   "source": "getTop5(top5WR, winRateDict)",
   "id": "46306b813c7a602d",
   "outputs": [],
   "execution_count": 47
  },
  {
   "metadata": {
    "ExecuteTime": {
     "end_time": "2025-04-02T03:13:06.313931Z",
     "start_time": "2025-04-02T03:13:06.310381Z"
    }
   },
   "cell_type": "code",
   "source": [
    "zScorePRDict = addZScores(pickRateDict)\n",
    "zScoreWRDict = addZScores(winRateDict)"
   ],
   "id": "4a77c9c8f5ea6ece",
   "outputs": [],
   "execution_count": 48
  },
  {
   "metadata": {
    "ExecuteTime": {
     "end_time": "2025-04-02T03:13:58.758727Z",
     "start_time": "2025-04-02T03:13:58.753224Z"
    }
   },
   "cell_type": "code",
   "source": [
    "truePowerLevelDict = joinZPicKRate(zScoreWRDict, zScorePRDict)\n",
    "\n",
    "top5PL = dict(sorted(truePowerLevelDict.items(), key=lambda item: item[1], reverse=True)[:5])\n",
    "truePowerLevelDict = dict(sorted(truePowerLevelDict.items(), key=lambda item: item[1], reverse=True))\n",
    "sortedWR = dict(sorted(winRateDict.items(), key=lambda item: item[1], reverse=True))\n",
    "sortedPR = dict(sorted(pickRateDict.items(), key=lambda item: item[1], reverse=True))\n",
    "\n",
    "print(f'Win Rates: {sortedWR}\\n')\n",
    "print(f'Pick Rates: {sortedPR}\\n')\n",
    "print(f'Power Level: {truePowerLevelDict}\\n')\n",
    "print(f'Top 5: {top5PL}\\n')"
   ],
   "id": "2aa27a64efb943dc",
   "outputs": [
    {
     "name": "stdout",
     "output_type": "stream",
     "text": [
      "Win Rates: {'nilah': 53.31, 'kogmaw': 53.27, 'tristana': 52.15, 'jinx': 51.91, 'draven': 51.73, 'vayne': 51.53, 'missfortune': 51.47, 'corki': 51.37, 'lucian': 51.06, 'ashe': 50.95, 'twitch': 50.63, 'varus': 50.56, 'xayah': 50.51, 'zeri': 50.44, 'aphelios': 50.27, 'kaisa': 50.23, 'samira': 50.02, 'jhin': 49.85, 'smolder': 49.74, 'sivir': 49.7, 'caitlyn': 49.22, 'kalista': 49.03, 'ezreal': 48.47}\n",
      "\n",
      "Pick Rates: {'kaisa': 24.43, 'ezreal': 20.5, 'jhin': 16.79, 'tristana': 13.74, 'jinx': 13.41, 'varus': 10.59, 'lucian': 10.04, 'ashe': 7.9, 'caitlyn': 7.41, 'corki': 6.54, 'aphelios': 6.09, 'missfortune': 5.75, 'draven': 5.54, 'xayah': 5.05, 'smolder': 4.33, 'zeri': 4.18, 'twitch': 3.82, 'sivir': 3.63, 'vayne': 3.57, 'kalista': 2.63, 'samira': 2.6, 'kogmaw': 2.03, 'nilah': 1.93}\n",
      "\n",
      "Power Level: {'kaisa': 4.879181901587604, 'tristana': 3.679156743102831, 'jinx': 3.270064305873314, 'jhin': 1.8432374725210499, 'ezreal': 1.3725034310934525, 'nilah': 1.1585066074679782, 'kogmaw': 1.1423334259489621, 'lucian': 1.0825851148370154, 'varus': 0.6455414816764096, 'draven': 0.40558191772567065, 'corki': 0.29357740750778577, 'ashe': 0.22777678426324813, 'missfortune': 0.15281809465767282, 'vayne': -0.5040708391651801, 'aphelios': -1.2249170347698235, 'xayah': -1.275516088850114, 'twitch': -1.539049892408468, 'zeri': -1.6544597465950663, 'caitlyn': -2.087344360709206, 'smolder': -2.4743563984301837, 'samira': -2.7067515993657425, 'sivir': -2.7589625675753604, 'kalista': -3.927436160393875}\n",
      "\n",
      "Top 5: {'kaisa': 4.879181901587604, 'tristana': 3.679156743102831, 'jinx': 3.270064305873314, 'jhin': 1.8432374725210499, 'ezreal': 1.3725034310934525}\n",
      "\n"
     ]
    }
   ],
   "execution_count": 49
  },
  {
   "metadata": {
    "ExecuteTime": {
     "end_time": "2025-04-02T03:14:06.585690Z",
     "start_time": "2025-04-02T03:14:00.711616Z"
    }
   },
   "cell_type": "code",
   "source": [
    "try:\n",
    "    username, tagline = input(\"Enter username and tagline (e.g. Saico#Slide): \").split(\"#\")\n",
    "    print(f\"Username: {username}, Tagline: {tagline}\")\n",
    "except ValueError:\n",
    "    print(\"Invalid entry method, try again.\\n\")"
   ],
   "id": "26491ef35afc2151",
   "outputs": [
    {
     "name": "stdout",
     "output_type": "stream",
     "text": [
      "Username: Saico, Tagline: Slide\n"
     ]
    }
   ],
   "execution_count": 50
  },
  {
   "metadata": {
    "ExecuteTime": {
     "end_time": "2025-04-02T03:15:18.430329Z",
     "start_time": "2025-04-02T03:15:18.426326Z"
    }
   },
   "cell_type": "code",
   "source": [
    "def getPUUID(username, tagline, headers):\n",
    "    return requests.get(f'{root}/riot/account/v1/accounts/by-riot-id/{username}/{tagline}?api_key={API_KEY}', headers=headers).json()['puuid']"
   ],
   "id": "be1400bb9bfce721",
   "outputs": [],
   "execution_count": 56
  },
  {
   "metadata": {
    "ExecuteTime": {
     "end_time": "2025-04-02T03:15:20.464799Z",
     "start_time": "2025-04-02T03:15:19.221913Z"
    }
   },
   "cell_type": "code",
   "source": [
    "playerPUUID = getPUUID(username, tagline, headers)\n",
    "count = 20\n",
    "\n",
    "matchList = getMatchHistory(count, username, tagline)\n",
    "print(matchList)"
   ],
   "id": "8aed014ed157ba6f",
   "outputs": [
    {
     "name": "stdout",
     "output_type": "stream",
     "text": [
      "['NA1_5257793042', 'NA1_5257769139', 'NA1_5257751614', 'NA1_5257733241', 'NA1_5257661308', 'NA1_5257625478', 'NA1_5257614615', 'NA1_5257304145', 'NA1_5257282077', 'NA1_5257187868', 'NA1_5257170379', 'NA1_5257158710', 'NA1_5257147580', 'NA1_5256858062', 'NA1_5256837726', 'NA1_5256830246', 'NA1_5256819084', 'NA1_5255639416', 'NA1_5255620896', 'NA1_5255598057']\n"
     ]
    }
   ],
   "execution_count": 57
  },
  {
   "metadata": {},
   "cell_type": "code",
   "outputs": [],
   "execution_count": null,
   "source": [
    "#Give each piece of information a rating from -100-100 in terms of importance 1 is least important 100 is most important\n",
    "for game in matchList:\n",
    "    matchInfo = getMatchInformation(game)\n",
    "    info = matchInfo['info']\n",
    "    queueID = info['queueId'] #Ranked is queueID 420\n",
    "    if queueID != 420:\n",
    "        continue\n",
    "    metadata = matchInfo['metadata']\n",
    "    players = info['participants']\n",
    "    participants = metadata['participants']\n",
    "    teams = info['teams']\n",
    "    player = players[participants.index(playerPUUID)]\n",
    "    playerTeam = player['teamId']\n",
    "    matchID = metadata['matchId']\n",
    "    gameStartTime = info['gameStartTimestamp'] #???\n",
    "    gameEndTime = info['gameEndTimestamp'] #???\n",
    "    for team in teams:\n",
    "        if team['teamId'] == playerTeam:\n",
    "            objs = team['objectives'] #See how its printed before assigning rank\n",
    "            baron = objs['baron'] #85 * numBarons\n",
    "            dragon = objs['dragon'] #20 * numDrags\n",
    "            # grubs = objs['grubs'] Not available :(\n",
    "            herald = objs['riftHerald'] #55-60\n",
    "            tower = objs['tower'] #8.63 * numTurrets\n",
    "            inhibitor = objs['inhibitor'] #Depends on how many down at a time and end time relative to when first inhibitor was taken\n",
    "            champion = objs['champion'] #???\n",
    "    for obj in [baron, dragon, herald, tower, inhibitor]:\n",
    "        first = obj['first']\n",
    "        objKills = obj['kills'] #(4 Drags + 30)\n",
    "    assists = player['assists'] #3*numDeaths\n",
    "    champLevel = player['champLevel'] #\n",
    "    champName = player['championName'] #\n",
    "    damageToBuildings = player['damageDealtToBuildings'] #\n",
    "    deaths = player['deaths'] #10*numDeaths\n",
    "    doublekills = player['doubleKills'] #\n",
    "    firstBloodAssist = player['firstBloodAssist'] #9\n",
    "    firstBloodKill = player['firstBloodKill'] #12\n",
    "    firstTowerAssist = player['firstTowerAssist'] #20 \n",
    "    firstTowerKill = player['firstTowerKill'] #20\n",
    "    gold = player['goldEarned'] \n",
    "    kills = player['kills'] #6*numKills\n",
    "    longestTimeLiving = player['longestTimeSpentLiving']\n",
    "    neutralMinionsKilled = player['neutralMinionsKilled']\n",
    "    minionsKilled = player['totalMinionsKilled']\n",
    "    csScore = minionsKilled + 4*neutralMinionsKilled #1.11 * csScore hard to evaluate if also trying to do this for support\n",
    "    turretTakedowns = player['turretTakedowns'] #\n",
    "    visionScore = player['visionScore']\n",
    "    win = player['win']\n",
    "    wardsPlaced = player['wardsPlaced']\n",
    "    wardsKilled = player['wardsKilled']\n",
    "    ctrlWardsBought = player['visionWardsBoughtInGame']"
   ],
   "id": "90d0e21ddd08e28e"
  }
 ],
 "metadata": {
  "kernelspec": {
   "display_name": "Python 3",
   "language": "python",
   "name": "python3"
  },
  "language_info": {
   "codemirror_mode": {
    "name": "ipython",
    "version": 2
   },
   "file_extension": ".py",
   "mimetype": "text/x-python",
   "name": "python",
   "nbconvert_exporter": "python",
   "pygments_lexer": "ipython2",
   "version": "2.7.6"
  }
 },
 "nbformat": 4,
 "nbformat_minor": 5
}
